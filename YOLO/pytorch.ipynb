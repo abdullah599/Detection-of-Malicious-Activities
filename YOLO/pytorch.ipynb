{
 "cells": [
  {
   "cell_type": "code",
   "execution_count": 17,
   "metadata": {},
   "outputs": [],
   "source": [
    "from ultralytics import YOLO\n",
    "import numpy as np\n",
    "import urllib\n",
    "import cv2"
   ]
  },
  {
   "cell_type": "code",
   "execution_count": 18,
   "metadata": {},
   "outputs": [],
   "source": [
    "def url_to_image(url):\n",
    "\tresp = urllib.request.urlopen(url)\n",
    "\timage = np.asarray(bytearray(resp.read()), dtype=\"uint8\")\n",
    "\timage = cv2.imdecode(image, cv2.IMREAD_COLOR)\n",
    "\treturn image"
   ]
  },
  {
   "cell_type": "code",
   "execution_count": 19,
   "metadata": {},
   "outputs": [],
   "source": [
    "model = YOLO('yolov8n.pt')"
   ]
  },
  {
   "cell_type": "code",
   "execution_count": 20,
   "metadata": {},
   "outputs": [
    {
     "name": "stderr",
     "output_type": "stream",
     "text": [
      "\n",
      "0: 640x480 4 persons, 1 bus, 1 stop sign, 139.3ms\n",
      "Speed: 0.0ms preprocess, 139.3ms inference, 1.8ms postprocess per image at shape (1, 3, 640, 480)\n"
     ]
    }
   ],
   "source": [
    "image=url_to_image('https://ultralytics.com/images/bus.jpg')\n",
    "results = model.predict(image)"
   ]
  },
  {
   "cell_type": "code",
   "execution_count": 21,
   "metadata": {},
   "outputs": [],
   "source": [
    "crop=[]\n",
    "for result in results:\n",
    "    boxes=result.boxes.numpy()\n",
    "    \n",
    "for i in range(boxes.cls.shape[0]):\n",
    "    if boxes.cls[i]==0:\n",
    "        crop.append(boxes.data[i])"
   ]
  },
  {
   "cell_type": "code",
   "execution_count": 22,
   "metadata": {},
   "outputs": [],
   "source": [
    "cropped_images = []\n",
    "\n",
    "for crop_coords in crop:\n",
    "    x1, y1, x2, y2, _, _ = crop_coords\n",
    "    x1, y1, x2, y2 = int(x1), int(y1), int(x2), int(y2)\n",
    "    \n",
    "    x1 = max(0, x1 - 100)\n",
    "    y1 = max(0, y1 - 100)\n",
    "    x2 = min(image.shape[1], x2 + 100)\n",
    "    y2 = min(image.shape[0], y2 + 100)\n",
    "    \n",
    "    cropped_img = image[y1:y2, x1:x2]\n",
    "    cropped_images.append(cropped_img)"
   ]
  },
  {
   "cell_type": "code",
   "execution_count": 23,
   "metadata": {},
   "outputs": [],
   "source": [
    "for i, cropped_img in enumerate(cropped_images):\n",
    "    cv2.imshow(f'Cropped Image {i}', cropped_img)\n",
    "\n",
    "cv2.waitKey(0)\n",
    "cv2.destroyAllWindows()"
   ]
  }
 ],
 "metadata": {
  "kernelspec": {
   "display_name": "base",
   "language": "python",
   "name": "python3"
  },
  "language_info": {
   "codemirror_mode": {
    "name": "ipython",
    "version": 3
   },
   "file_extension": ".py",
   "mimetype": "text/x-python",
   "name": "python",
   "nbconvert_exporter": "python",
   "pygments_lexer": "ipython3",
   "version": "3.11.4"
  },
  "orig_nbformat": 4
 },
 "nbformat": 4,
 "nbformat_minor": 2
}
